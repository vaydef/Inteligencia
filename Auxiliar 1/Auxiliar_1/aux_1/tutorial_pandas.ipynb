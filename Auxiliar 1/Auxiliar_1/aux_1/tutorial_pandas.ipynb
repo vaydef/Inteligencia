{
 "cells": [
  {
   "cell_type": "code",
   "execution_count": 2,
   "metadata": {},
   "outputs": [],
   "source": [
    "import numpy as np\n",
    "import pandas as pd\n",
    "import matplotlib\n",
    "%matplotlib inline\n",
    "import matplotlib.pyplot as plt"
   ]
  },
  {
   "cell_type": "markdown",
   "metadata": {},
   "source": [
    "## Juguemos con datos de verdad!"
   ]
  },
  {
   "cell_type": "code",
   "execution_count": 3,
   "metadata": {},
   "outputs": [],
   "source": [
    "alerts = pd.read_pickle('alerts.pkl')"
   ]
  },
  {
   "cell_type": "code",
   "execution_count": 4,
   "metadata": {},
   "outputs": [
    {
     "data": {
      "text/plain": [
       "pandas.core.frame.DataFrame"
      ]
     },
     "execution_count": 4,
     "metadata": {},
     "output_type": "execute_result"
    }
   ],
   "source": [
    "type(alerts)"
   ]
  },
  {
   "cell_type": "code",
   "execution_count": 5,
   "metadata": {},
   "outputs": [
    {
     "data": {
      "text/html": [
       "<div>\n",
       "<style scoped>\n",
       "    .dataframe tbody tr th:only-of-type {\n",
       "        vertical-align: middle;\n",
       "    }\n",
       "\n",
       "    .dataframe tbody tr th {\n",
       "        vertical-align: top;\n",
       "    }\n",
       "\n",
       "    .dataframe thead th {\n",
       "        text-align: right;\n",
       "    }\n",
       "</style>\n",
       "<table border=\"1\" class=\"dataframe\">\n",
       "  <thead>\n",
       "    <tr style=\"text-align: right;\">\n",
       "      <th></th>\n",
       "      <th>candid</th>\n",
       "      <th>dec</th>\n",
       "      <th>fid</th>\n",
       "      <th>mjd</th>\n",
       "      <th>magap_corr</th>\n",
       "      <th>magpsf_corr</th>\n",
       "      <th>magref</th>\n",
       "      <th>ra</th>\n",
       "      <th>sigmagap_corr</th>\n",
       "      <th>sigmagref</th>\n",
       "      <th>sigmapsf_corr</th>\n",
       "    </tr>\n",
       "    <tr>\n",
       "      <th>oid</th>\n",
       "      <th></th>\n",
       "      <th></th>\n",
       "      <th></th>\n",
       "      <th></th>\n",
       "      <th></th>\n",
       "      <th></th>\n",
       "      <th></th>\n",
       "      <th></th>\n",
       "      <th></th>\n",
       "      <th></th>\n",
       "      <th></th>\n",
       "    </tr>\n",
       "  </thead>\n",
       "  <tbody>\n",
       "    <tr>\n",
       "      <th>ZTF17aaaaavq</th>\n",
       "      <td>525449495115010039</td>\n",
       "      <td>49.906371</td>\n",
       "      <td>1</td>\n",
       "      <td>58279.449491</td>\n",
       "      <td>16.064439</td>\n",
       "      <td>16.070437</td>\n",
       "      <td>16.037001</td>\n",
       "      <td>326.583275</td>\n",
       "      <td>0.033280</td>\n",
       "      <td>0.032</td>\n",
       "      <td>0.033190</td>\n",
       "    </tr>\n",
       "    <tr>\n",
       "      <th>ZTF17aaaaavq</th>\n",
       "      <td>526428195115010015</td>\n",
       "      <td>49.906359</td>\n",
       "      <td>1</td>\n",
       "      <td>58280.428194</td>\n",
       "      <td>16.073295</td>\n",
       "      <td>16.066807</td>\n",
       "      <td>16.037001</td>\n",
       "      <td>326.583233</td>\n",
       "      <td>0.033369</td>\n",
       "      <td>0.032</td>\n",
       "      <td>0.032999</td>\n",
       "    </tr>\n",
       "    <tr>\n",
       "      <th>ZTF17aaaaavq</th>\n",
       "      <td>526455846215010013</td>\n",
       "      <td>49.906345</td>\n",
       "      <td>1</td>\n",
       "      <td>58280.455845</td>\n",
       "      <td>16.056232</td>\n",
       "      <td>16.060992</td>\n",
       "      <td>16.037001</td>\n",
       "      <td>326.583226</td>\n",
       "      <td>0.032861</td>\n",
       "      <td>0.032</td>\n",
       "      <td>0.032826</td>\n",
       "    </tr>\n",
       "    <tr>\n",
       "      <th>ZTF17aaaaavq</th>\n",
       "      <td>527433925115010012</td>\n",
       "      <td>49.906377</td>\n",
       "      <td>1</td>\n",
       "      <td>58281.433924</td>\n",
       "      <td>16.064030</td>\n",
       "      <td>16.068855</td>\n",
       "      <td>16.037001</td>\n",
       "      <td>326.583190</td>\n",
       "      <td>0.033130</td>\n",
       "      <td>0.032</td>\n",
       "      <td>0.033085</td>\n",
       "    </tr>\n",
       "    <tr>\n",
       "      <th>ZTF17aaaaavq</th>\n",
       "      <td>527434406215010029</td>\n",
       "      <td>49.906317</td>\n",
       "      <td>1</td>\n",
       "      <td>58281.434410</td>\n",
       "      <td>16.065981</td>\n",
       "      <td>16.062742</td>\n",
       "      <td>16.037001</td>\n",
       "      <td>326.583206</td>\n",
       "      <td>0.033304</td>\n",
       "      <td>0.032</td>\n",
       "      <td>0.032938</td>\n",
       "    </tr>\n",
       "  </tbody>\n",
       "</table>\n",
       "</div>"
      ],
      "text/plain": [
       "                          candid        dec  fid           mjd  magap_corr  \\\n",
       "oid                                                                          \n",
       "ZTF17aaaaavq  525449495115010039  49.906371    1  58279.449491   16.064439   \n",
       "ZTF17aaaaavq  526428195115010015  49.906359    1  58280.428194   16.073295   \n",
       "ZTF17aaaaavq  526455846215010013  49.906345    1  58280.455845   16.056232   \n",
       "ZTF17aaaaavq  527433925115010012  49.906377    1  58281.433924   16.064030   \n",
       "ZTF17aaaaavq  527434406215010029  49.906317    1  58281.434410   16.065981   \n",
       "\n",
       "              magpsf_corr     magref          ra  sigmagap_corr  sigmagref  \\\n",
       "oid                                                                          \n",
       "ZTF17aaaaavq    16.070437  16.037001  326.583275       0.033280      0.032   \n",
       "ZTF17aaaaavq    16.066807  16.037001  326.583233       0.033369      0.032   \n",
       "ZTF17aaaaavq    16.060992  16.037001  326.583226       0.032861      0.032   \n",
       "ZTF17aaaaavq    16.068855  16.037001  326.583190       0.033130      0.032   \n",
       "ZTF17aaaaavq    16.062742  16.037001  326.583206       0.033304      0.032   \n",
       "\n",
       "              sigmapsf_corr  \n",
       "oid                          \n",
       "ZTF17aaaaavq       0.033190  \n",
       "ZTF17aaaaavq       0.032999  \n",
       "ZTF17aaaaavq       0.032826  \n",
       "ZTF17aaaaavq       0.033085  \n",
       "ZTF17aaaaavq       0.032938  "
      ]
     },
     "execution_count": 5,
     "metadata": {},
     "output_type": "execute_result"
    }
   ],
   "source": [
    "alerts.head()"
   ]
  },
  {
   "cell_type": "markdown",
   "metadata": {},
   "source": [
    "### Los dataframes de pandas son como numpy arrays pero con nombres en las columnas y filas indexadas"
   ]
  },
  {
   "cell_type": "code",
   "execution_count": 6,
   "metadata": {},
   "outputs": [
    {
     "data": {
      "text/plain": [
       "Index(['candid', 'dec', 'fid', 'mjd', 'magap_corr', 'magpsf_corr', 'magref',\n",
       "       'ra', 'sigmagap_corr', 'sigmagref', 'sigmapsf_corr'],\n",
       "      dtype='object')"
      ]
     },
     "execution_count": 6,
     "metadata": {},
     "output_type": "execute_result"
    }
   ],
   "source": [
    "alerts.columns"
   ]
  },
  {
   "cell_type": "code",
   "execution_count": 7,
   "metadata": {},
   "outputs": [
    {
     "data": {
      "text/plain": [
       "Index(['ZTF17aaaaavq', 'ZTF17aaaaavq', 'ZTF17aaaaavq', 'ZTF17aaaaavq',\n",
       "       'ZTF17aaaaavq', 'ZTF17aaaaavq', 'ZTF17aaaaavq', 'ZTF17aaaaavq',\n",
       "       'ZTF17aaaaavq', 'ZTF17aaaaavq',\n",
       "       ...\n",
       "       'ZTF19aaacrpc', 'ZTF19aaacrpc', 'ZTF19aaacrpc', 'ZTF19aaacrpc',\n",
       "       'ZTF19aaacrpc', 'ZTF19aaacrpc', 'ZTF19aaacrpc', 'ZTF19aaacrpc',\n",
       "       'ZTF19aaacrpc', 'ZTF19aaacrpc'],\n",
       "      dtype='object', name='oid', length=1018315)"
      ]
     },
     "execution_count": 7,
     "metadata": {},
     "output_type": "execute_result"
    }
   ],
   "source": [
    "alerts.index"
   ]
  },
  {
   "cell_type": "markdown",
   "metadata": {},
   "source": [
    "## Cómo elegir columnas y filas (slicing)"
   ]
  },
  {
   "cell_type": "code",
   "execution_count": 8,
   "metadata": {},
   "outputs": [
    {
     "data": {
      "text/html": [
       "<div>\n",
       "<style scoped>\n",
       "    .dataframe tbody tr th:only-of-type {\n",
       "        vertical-align: middle;\n",
       "    }\n",
       "\n",
       "    .dataframe tbody tr th {\n",
       "        vertical-align: top;\n",
       "    }\n",
       "\n",
       "    .dataframe thead th {\n",
       "        text-align: right;\n",
       "    }\n",
       "</style>\n",
       "<table border=\"1\" class=\"dataframe\">\n",
       "  <thead>\n",
       "    <tr style=\"text-align: right;\">\n",
       "      <th></th>\n",
       "      <th>mjd</th>\n",
       "      <th>magpsf_corr</th>\n",
       "      <th>sigmapsf_corr</th>\n",
       "      <th>fid</th>\n",
       "    </tr>\n",
       "    <tr>\n",
       "      <th>oid</th>\n",
       "      <th></th>\n",
       "      <th></th>\n",
       "      <th></th>\n",
       "      <th></th>\n",
       "    </tr>\n",
       "  </thead>\n",
       "  <tbody>\n",
       "    <tr>\n",
       "      <th>ZTF17aaaaavq</th>\n",
       "      <td>58279.449491</td>\n",
       "      <td>16.070437</td>\n",
       "      <td>0.033190</td>\n",
       "      <td>1</td>\n",
       "    </tr>\n",
       "    <tr>\n",
       "      <th>ZTF17aaaaavq</th>\n",
       "      <td>58280.428194</td>\n",
       "      <td>16.066807</td>\n",
       "      <td>0.032999</td>\n",
       "      <td>1</td>\n",
       "    </tr>\n",
       "    <tr>\n",
       "      <th>ZTF17aaaaavq</th>\n",
       "      <td>58280.455845</td>\n",
       "      <td>16.060992</td>\n",
       "      <td>0.032826</td>\n",
       "      <td>1</td>\n",
       "    </tr>\n",
       "    <tr>\n",
       "      <th>ZTF17aaaaavq</th>\n",
       "      <td>58281.433924</td>\n",
       "      <td>16.068855</td>\n",
       "      <td>0.033085</td>\n",
       "      <td>1</td>\n",
       "    </tr>\n",
       "    <tr>\n",
       "      <th>ZTF17aaaaavq</th>\n",
       "      <td>58281.434410</td>\n",
       "      <td>16.062742</td>\n",
       "      <td>0.032938</td>\n",
       "      <td>1</td>\n",
       "    </tr>\n",
       "  </tbody>\n",
       "</table>\n",
       "</div>"
      ],
      "text/plain": [
       "                       mjd  magpsf_corr  sigmapsf_corr  fid\n",
       "oid                                                        \n",
       "ZTF17aaaaavq  58279.449491    16.070437       0.033190    1\n",
       "ZTF17aaaaavq  58280.428194    16.066807       0.032999    1\n",
       "ZTF17aaaaavq  58280.455845    16.060992       0.032826    1\n",
       "ZTF17aaaaavq  58281.433924    16.068855       0.033085    1\n",
       "ZTF17aaaaavq  58281.434410    16.062742       0.032938    1"
      ]
     },
     "execution_count": 8,
     "metadata": {},
     "output_type": "execute_result"
    }
   ],
   "source": [
    "slice_alerts = alerts[['mjd', 'magpsf_corr', 'sigmapsf_corr', 'fid']]\n",
    "slice_alerts.head()"
   ]
  },
  {
   "cell_type": "code",
   "execution_count": 9,
   "metadata": {},
   "outputs": [
    {
     "data": {
      "text/html": [
       "<div>\n",
       "<style scoped>\n",
       "    .dataframe tbody tr th:only-of-type {\n",
       "        vertical-align: middle;\n",
       "    }\n",
       "\n",
       "    .dataframe tbody tr th {\n",
       "        vertical-align: top;\n",
       "    }\n",
       "\n",
       "    .dataframe thead th {\n",
       "        text-align: right;\n",
       "    }\n",
       "</style>\n",
       "<table border=\"1\" class=\"dataframe\">\n",
       "  <thead>\n",
       "    <tr style=\"text-align: right;\">\n",
       "      <th></th>\n",
       "      <th>mjd</th>\n",
       "      <th>magpsf_corr</th>\n",
       "      <th>sigmapsf_corr</th>\n",
       "      <th>fid</th>\n",
       "    </tr>\n",
       "    <tr>\n",
       "      <th>oid</th>\n",
       "      <th></th>\n",
       "      <th></th>\n",
       "      <th></th>\n",
       "      <th></th>\n",
       "    </tr>\n",
       "  </thead>\n",
       "  <tbody>\n",
       "    <tr>\n",
       "      <th>ZTF17aaaaavq</th>\n",
       "      <td>58280.455845</td>\n",
       "      <td>16.060992</td>\n",
       "      <td>0.032826</td>\n",
       "      <td>1</td>\n",
       "    </tr>\n",
       "    <tr>\n",
       "      <th>ZTF17aaaaavq</th>\n",
       "      <td>58281.433924</td>\n",
       "      <td>16.068855</td>\n",
       "      <td>0.033085</td>\n",
       "      <td>1</td>\n",
       "    </tr>\n",
       "  </tbody>\n",
       "</table>\n",
       "</div>"
      ],
      "text/plain": [
       "                       mjd  magpsf_corr  sigmapsf_corr  fid\n",
       "oid                                                        \n",
       "ZTF17aaaaavq  58280.455845    16.060992       0.032826    1\n",
       "ZTF17aaaaavq  58281.433924    16.068855       0.033085    1"
      ]
     },
     "execution_count": 9,
     "metadata": {},
     "output_type": "execute_result"
    }
   ],
   "source": [
    "slice_alerts.iloc[[2, 3]]"
   ]
  },
  {
   "cell_type": "code",
   "execution_count": 10,
   "metadata": {},
   "outputs": [
    {
     "data": {
      "text/html": [
       "<div>\n",
       "<style scoped>\n",
       "    .dataframe tbody tr th:only-of-type {\n",
       "        vertical-align: middle;\n",
       "    }\n",
       "\n",
       "    .dataframe tbody tr th {\n",
       "        vertical-align: top;\n",
       "    }\n",
       "\n",
       "    .dataframe thead th {\n",
       "        text-align: right;\n",
       "    }\n",
       "</style>\n",
       "<table border=\"1\" class=\"dataframe\">\n",
       "  <thead>\n",
       "    <tr style=\"text-align: right;\">\n",
       "      <th></th>\n",
       "      <th>mjd</th>\n",
       "      <th>magpsf_corr</th>\n",
       "      <th>sigmapsf_corr</th>\n",
       "      <th>fid</th>\n",
       "    </tr>\n",
       "    <tr>\n",
       "      <th>oid</th>\n",
       "      <th></th>\n",
       "      <th></th>\n",
       "      <th></th>\n",
       "      <th></th>\n",
       "    </tr>\n",
       "  </thead>\n",
       "  <tbody>\n",
       "    <tr>\n",
       "      <th>ZTF19aaacrpc</th>\n",
       "      <td>58486.420868</td>\n",
       "      <td>13.297551</td>\n",
       "      <td>0.013370</td>\n",
       "      <td>1</td>\n",
       "    </tr>\n",
       "    <tr>\n",
       "      <th>ZTF19aaacrpc</th>\n",
       "      <td>58487.451042</td>\n",
       "      <td>13.407758</td>\n",
       "      <td>0.014626</td>\n",
       "      <td>1</td>\n",
       "    </tr>\n",
       "    <tr>\n",
       "      <th>ZTF19aaacrpc</th>\n",
       "      <td>58495.261551</td>\n",
       "      <td>13.489080</td>\n",
       "      <td>0.016437</td>\n",
       "      <td>1</td>\n",
       "    </tr>\n",
       "    <tr>\n",
       "      <th>ZTF19aaacrpc</th>\n",
       "      <td>58503.534375</td>\n",
       "      <td>13.552889</td>\n",
       "      <td>0.018924</td>\n",
       "      <td>1</td>\n",
       "    </tr>\n",
       "    <tr>\n",
       "      <th>ZTF19aaacrpc</th>\n",
       "      <td>58509.234387</td>\n",
       "      <td>13.575654</td>\n",
       "      <td>0.018049</td>\n",
       "      <td>1</td>\n",
       "    </tr>\n",
       "    <tr>\n",
       "      <th>ZTF19aaacrpc</th>\n",
       "      <td>58538.252662</td>\n",
       "      <td>13.489724</td>\n",
       "      <td>0.016612</td>\n",
       "      <td>1</td>\n",
       "    </tr>\n",
       "    <tr>\n",
       "      <th>ZTF19aaacrpc</th>\n",
       "      <td>58541.235266</td>\n",
       "      <td>13.487539</td>\n",
       "      <td>0.017850</td>\n",
       "      <td>1</td>\n",
       "    </tr>\n",
       "    <tr>\n",
       "      <th>ZTF19aaacrpc</th>\n",
       "      <td>58547.290255</td>\n",
       "      <td>13.535105</td>\n",
       "      <td>0.021581</td>\n",
       "      <td>1</td>\n",
       "    </tr>\n",
       "    <tr>\n",
       "      <th>ZTF19aaacrpc</th>\n",
       "      <td>58561.210370</td>\n",
       "      <td>13.542108</td>\n",
       "      <td>0.018289</td>\n",
       "      <td>1</td>\n",
       "    </tr>\n",
       "    <tr>\n",
       "      <th>ZTF19aaacrpc</th>\n",
       "      <td>58572.170093</td>\n",
       "      <td>13.503327</td>\n",
       "      <td>0.016321</td>\n",
       "      <td>1</td>\n",
       "    </tr>\n",
       "    <tr>\n",
       "      <th>ZTF19aaacrpc</th>\n",
       "      <td>58572.171007</td>\n",
       "      <td>13.503449</td>\n",
       "      <td>0.016406</td>\n",
       "      <td>1</td>\n",
       "    </tr>\n",
       "    <tr>\n",
       "      <th>ZTF19aaacrpc</th>\n",
       "      <td>58509.287465</td>\n",
       "      <td>13.486531</td>\n",
       "      <td>0.017940</td>\n",
       "      <td>2</td>\n",
       "    </tr>\n",
       "    <tr>\n",
       "      <th>ZTF19aaacrpc</th>\n",
       "      <td>58509.289294</td>\n",
       "      <td>13.474108</td>\n",
       "      <td>0.015593</td>\n",
       "      <td>2</td>\n",
       "    </tr>\n",
       "    <tr>\n",
       "      <th>ZTF19aaacrpc</th>\n",
       "      <td>58526.225532</td>\n",
       "      <td>13.518186</td>\n",
       "      <td>0.019185</td>\n",
       "      <td>2</td>\n",
       "    </tr>\n",
       "    <tr>\n",
       "      <th>ZTF19aaacrpc</th>\n",
       "      <td>58526.226447</td>\n",
       "      <td>13.513651</td>\n",
       "      <td>0.017436</td>\n",
       "      <td>2</td>\n",
       "    </tr>\n",
       "    <tr>\n",
       "      <th>ZTF19aaacrpc</th>\n",
       "      <td>58556.188947</td>\n",
       "      <td>13.303224</td>\n",
       "      <td>0.015388</td>\n",
       "      <td>2</td>\n",
       "    </tr>\n",
       "    <tr>\n",
       "      <th>ZTF19aaacrpc</th>\n",
       "      <td>58561.177697</td>\n",
       "      <td>13.516735</td>\n",
       "      <td>0.021829</td>\n",
       "      <td>2</td>\n",
       "    </tr>\n",
       "  </tbody>\n",
       "</table>\n",
       "</div>"
      ],
      "text/plain": [
       "                       mjd  magpsf_corr  sigmapsf_corr  fid\n",
       "oid                                                        \n",
       "ZTF19aaacrpc  58486.420868    13.297551       0.013370    1\n",
       "ZTF19aaacrpc  58487.451042    13.407758       0.014626    1\n",
       "ZTF19aaacrpc  58495.261551    13.489080       0.016437    1\n",
       "ZTF19aaacrpc  58503.534375    13.552889       0.018924    1\n",
       "ZTF19aaacrpc  58509.234387    13.575654       0.018049    1\n",
       "ZTF19aaacrpc  58538.252662    13.489724       0.016612    1\n",
       "ZTF19aaacrpc  58541.235266    13.487539       0.017850    1\n",
       "ZTF19aaacrpc  58547.290255    13.535105       0.021581    1\n",
       "ZTF19aaacrpc  58561.210370    13.542108       0.018289    1\n",
       "ZTF19aaacrpc  58572.170093    13.503327       0.016321    1\n",
       "ZTF19aaacrpc  58572.171007    13.503449       0.016406    1\n",
       "ZTF19aaacrpc  58509.287465    13.486531       0.017940    2\n",
       "ZTF19aaacrpc  58509.289294    13.474108       0.015593    2\n",
       "ZTF19aaacrpc  58526.225532    13.518186       0.019185    2\n",
       "ZTF19aaacrpc  58526.226447    13.513651       0.017436    2\n",
       "ZTF19aaacrpc  58556.188947    13.303224       0.015388    2\n",
       "ZTF19aaacrpc  58561.177697    13.516735       0.021829    2"
      ]
     },
     "execution_count": 10,
     "metadata": {},
     "output_type": "execute_result"
    }
   ],
   "source": [
    "slice_alerts.loc[['ZTF19aaacrpc']]"
   ]
  },
  {
   "cell_type": "markdown",
   "metadata": {},
   "source": [
    "### ¿Cuántas alertas y curvas de luz hay?"
   ]
  },
  {
   "cell_type": "code",
   "execution_count": 11,
   "metadata": {},
   "outputs": [
    {
     "data": {
      "text/plain": [
       "1018315"
      ]
     },
     "execution_count": 11,
     "metadata": {},
     "output_type": "execute_result"
    }
   ],
   "source": [
    "len(slice_alerts)"
   ]
  },
  {
   "cell_type": "code",
   "execution_count": 12,
   "metadata": {},
   "outputs": [
    {
     "data": {
      "text/plain": [
       "27110"
      ]
     },
     "execution_count": 12,
     "metadata": {},
     "output_type": "execute_result"
    }
   ],
   "source": [
    "oids = slice_alerts.index.unique()\n",
    "len(oids)"
   ]
  },
  {
   "cell_type": "markdown",
   "metadata": {},
   "source": [
    "### ¿Hay algún NaN?"
   ]
  },
  {
   "cell_type": "code",
   "execution_count": 13,
   "metadata": {},
   "outputs": [
    {
     "data": {
      "text/plain": [
       "(1018315, 4)"
      ]
     },
     "execution_count": 13,
     "metadata": {},
     "output_type": "execute_result"
    }
   ],
   "source": [
    "alerts.dropna(inplace=True)\n",
    "slice_alerts.shape"
   ]
  },
  {
   "cell_type": "markdown",
   "metadata": {},
   "source": [
    "## Wait a minute... modificamos alerts pero cambió slice_alerts?! "
   ]
  },
  {
   "cell_type": "markdown",
   "metadata": {},
   "source": [
    "## Grafiquemos una curva de luz!"
   ]
  },
  {
   "cell_type": "code",
   "execution_count": 14,
   "metadata": {},
   "outputs": [
    {
     "data": {
      "image/png": "[encoded data removed]",
      "text/plain": [
       "<Figure size 864x576 with 1 Axes>"
      ]
     },
     "metadata": {},
     "output_type": "display_data"
    }
   ],
   "source": [
    "light_curve = slice_alerts.loc[['ZTF17aaajtgd']]\n",
    "lc_g = light_curve[light_curve.fid == 1]\n",
    "lc_r = light_curve[light_curve.fid == 2]\n",
    "fig = plt.figure(figsize=(12, 8))\n",
    "fig.set_facecolor('white')\n",
    "\n",
    "plt.errorbar(lc_g['mjd'], lc_g['magpsf_corr'], yerr=lc_g['sigmapsf_corr'], fmt='*g', label='g')\n",
    "plt.errorbar(lc_r['mjd'], lc_r['magpsf_corr'], yerr=lc_r['sigmapsf_corr'], fmt='*r', label='r')\n",
    "plt.xlabel('Time [mjd]')\n",
    "plt.ylabel('Magnitude')\n",
    "plt.title('Light curve %s' % light_curve.index[0])\n",
    "plt.legend()\n",
    "plt.gca().invert_yaxis()"
   ]
  },
  {
   "cell_type": "code",
   "execution_count": 15,
   "metadata": {},
   "outputs": [
    {
     "data": {
      "image/png": "[encoded data removed]",
      "text/plain": [
       "<Figure size 864x576 with 1 Axes>"
      ]
     },
     "metadata": {},
     "output_type": "display_data"
    }
   ],
   "source": [
    "period = 3.879\n",
    "fig = plt.figure(figsize=(12, 8))\n",
    "fig.set_facecolor('white')\n",
    "plt.errorbar(lc_g['mjd'] % period, lc_g['magpsf_corr'], yerr=lc_g['sigmapsf_corr'], fmt='*g', label='g')\n",
    "plt.errorbar(lc_r['mjd'] % period, lc_r['magpsf_corr'], yerr=lc_r['sigmapsf_corr'], fmt='*r', label='r')\n",
    "plt.xlabel('Time [mjd]')\n",
    "plt.ylabel('Magnitude')\n",
    "plt.title('Folded light curve %s with period %.3f days' % (light_curve.index[0], period))\n",
    "plt.legend()\n",
    "plt.gca().invert_yaxis()"
   ]
  },
  {
   "cell_type": "markdown",
   "metadata": {},
   "source": [
    "## Calculemos los largos de las curvas de luz"
   ]
  },
  {
   "cell_type": "code",
   "execution_count": 16,
   "metadata": {},
   "outputs": [
    {
     "data": {
      "text/html": [
       "<div>\n",
       "<style scoped>\n",
       "    .dataframe tbody tr th:only-of-type {\n",
       "        vertical-align: middle;\n",
       "    }\n",
       "\n",
       "    .dataframe tbody tr th {\n",
       "        vertical-align: top;\n",
       "    }\n",
       "\n",
       "    .dataframe thead th {\n",
       "        text-align: right;\n",
       "    }\n",
       "</style>\n",
       "<table border=\"1\" class=\"dataframe\">\n",
       "  <thead>\n",
       "    <tr style=\"text-align: right;\">\n",
       "      <th></th>\n",
       "      <th>mjd</th>\n",
       "      <th>magpsf_corr</th>\n",
       "      <th>sigmapsf_corr</th>\n",
       "      <th>fid</th>\n",
       "    </tr>\n",
       "    <tr>\n",
       "      <th>oid</th>\n",
       "      <th></th>\n",
       "      <th></th>\n",
       "      <th></th>\n",
       "      <th></th>\n",
       "    </tr>\n",
       "  </thead>\n",
       "  <tbody>\n",
       "    <tr>\n",
       "      <th>ZTF17aaaaavq</th>\n",
       "      <td>346</td>\n",
       "      <td>346</td>\n",
       "      <td>346</td>\n",
       "      <td>346</td>\n",
       "    </tr>\n",
       "    <tr>\n",
       "      <th>ZTF17aaaabpo</th>\n",
       "      <td>19</td>\n",
       "      <td>19</td>\n",
       "      <td>19</td>\n",
       "      <td>19</td>\n",
       "    </tr>\n",
       "    <tr>\n",
       "      <th>ZTF17aaaabrg</th>\n",
       "      <td>27</td>\n",
       "      <td>27</td>\n",
       "      <td>27</td>\n",
       "      <td>27</td>\n",
       "    </tr>\n",
       "    <tr>\n",
       "      <th>ZTF17aaaabte</th>\n",
       "      <td>48</td>\n",
       "      <td>48</td>\n",
       "      <td>48</td>\n",
       "      <td>48</td>\n",
       "    </tr>\n",
       "    <tr>\n",
       "      <th>ZTF17aaaabtj</th>\n",
       "      <td>14</td>\n",
       "      <td>14</td>\n",
       "      <td>14</td>\n",
       "      <td>14</td>\n",
       "    </tr>\n",
       "    <tr>\n",
       "      <th>...</th>\n",
       "      <td>...</td>\n",
       "      <td>...</td>\n",
       "      <td>...</td>\n",
       "      <td>...</td>\n",
       "    </tr>\n",
       "    <tr>\n",
       "      <th>ZTF18adbzccv</th>\n",
       "      <td>20</td>\n",
       "      <td>20</td>\n",
       "      <td>20</td>\n",
       "      <td>20</td>\n",
       "    </tr>\n",
       "    <tr>\n",
       "      <th>ZTF18adbzckw</th>\n",
       "      <td>20</td>\n",
       "      <td>20</td>\n",
       "      <td>20</td>\n",
       "      <td>20</td>\n",
       "    </tr>\n",
       "    <tr>\n",
       "      <th>ZTF18adbzclb</th>\n",
       "      <td>18</td>\n",
       "      <td>18</td>\n",
       "      <td>18</td>\n",
       "      <td>18</td>\n",
       "    </tr>\n",
       "    <tr>\n",
       "      <th>ZTF18adbzcrv</th>\n",
       "      <td>15</td>\n",
       "      <td>15</td>\n",
       "      <td>15</td>\n",
       "      <td>15</td>\n",
       "    </tr>\n",
       "    <tr>\n",
       "      <th>ZTF19aaacrpc</th>\n",
       "      <td>17</td>\n",
       "      <td>17</td>\n",
       "      <td>17</td>\n",
       "      <td>17</td>\n",
       "    </tr>\n",
       "  </tbody>\n",
       "</table>\n",
       "<p>27110 rows × 4 columns</p>\n",
       "</div>"
      ],
      "text/plain": [
       "              mjd  magpsf_corr  sigmapsf_corr  fid\n",
       "oid                                               \n",
       "ZTF17aaaaavq  346          346            346  346\n",
       "ZTF17aaaabpo   19           19             19   19\n",
       "ZTF17aaaabrg   27           27             27   27\n",
       "ZTF17aaaabte   48           48             48   48\n",
       "ZTF17aaaabtj   14           14             14   14\n",
       "...           ...          ...            ...  ...\n",
       "ZTF18adbzccv   20           20             20   20\n",
       "ZTF18adbzckw   20           20             20   20\n",
       "ZTF18adbzclb   18           18             18   18\n",
       "ZTF18adbzcrv   15           15             15   15\n",
       "ZTF19aaacrpc   17           17             17   17\n",
       "\n",
       "[27110 rows x 4 columns]"
      ]
     },
     "execution_count": 16,
     "metadata": {},
     "output_type": "execute_result"
    }
   ],
   "source": [
    "lc_len = slice_alerts.groupby(level=0).count()\n",
    "lc_len"
   ]
  },
  {
   "cell_type": "code",
   "execution_count": 17,
   "metadata": {},
   "outputs": [
    {
     "data": {
      "text/html": [
       "<div>\n",
       "<style scoped>\n",
       "    .dataframe tbody tr th:only-of-type {\n",
       "        vertical-align: middle;\n",
       "    }\n",
       "\n",
       "    .dataframe tbody tr th {\n",
       "        vertical-align: top;\n",
       "    }\n",
       "\n",
       "    .dataframe thead th {\n",
       "        text-align: right;\n",
       "    }\n",
       "</style>\n",
       "<table border=\"1\" class=\"dataframe\">\n",
       "  <thead>\n",
       "    <tr style=\"text-align: right;\">\n",
       "      <th></th>\n",
       "      <th>length</th>\n",
       "    </tr>\n",
       "    <tr>\n",
       "      <th>oid</th>\n",
       "      <th></th>\n",
       "    </tr>\n",
       "  </thead>\n",
       "  <tbody>\n",
       "    <tr>\n",
       "      <th>ZTF18abmoucu</th>\n",
       "      <td>12</td>\n",
       "    </tr>\n",
       "    <tr>\n",
       "      <th>ZTF18abtmtnv</th>\n",
       "      <td>12</td>\n",
       "    </tr>\n",
       "    <tr>\n",
       "      <th>ZTF18abmwqmp</th>\n",
       "      <td>12</td>\n",
       "    </tr>\n",
       "    <tr>\n",
       "      <th>ZTF17aaagyyp</th>\n",
       "      <td>12</td>\n",
       "    </tr>\n",
       "    <tr>\n",
       "      <th>ZTF18abotfhg</th>\n",
       "      <td>12</td>\n",
       "    </tr>\n",
       "    <tr>\n",
       "      <th>...</th>\n",
       "      <td>...</td>\n",
       "    </tr>\n",
       "    <tr>\n",
       "      <th>ZTF17aaaecor</th>\n",
       "      <td>391</td>\n",
       "    </tr>\n",
       "    <tr>\n",
       "      <th>ZTF17aabumwd</th>\n",
       "      <td>396</td>\n",
       "    </tr>\n",
       "    <tr>\n",
       "      <th>ZTF17aabvgjf</th>\n",
       "      <td>431</td>\n",
       "    </tr>\n",
       "    <tr>\n",
       "      <th>ZTF17aaaxaql</th>\n",
       "      <td>437</td>\n",
       "    </tr>\n",
       "    <tr>\n",
       "      <th>ZTF18aayxheb</th>\n",
       "      <td>439</td>\n",
       "    </tr>\n",
       "  </tbody>\n",
       "</table>\n",
       "<p>27110 rows × 1 columns</p>\n",
       "</div>"
      ],
      "text/plain": [
       "              length\n",
       "oid                 \n",
       "ZTF18abmoucu      12\n",
       "ZTF18abtmtnv      12\n",
       "ZTF18abmwqmp      12\n",
       "ZTF17aaagyyp      12\n",
       "ZTF18abotfhg      12\n",
       "...              ...\n",
       "ZTF17aaaecor     391\n",
       "ZTF17aabumwd     396\n",
       "ZTF17aabvgjf     431\n",
       "ZTF17aaaxaql     437\n",
       "ZTF18aayxheb     439\n",
       "\n",
       "[27110 rows x 1 columns]"
      ]
     },
     "execution_count": 17,
     "metadata": {},
     "output_type": "execute_result"
    }
   ],
   "source": [
    "lc_len = lc_len[['mjd']].copy()\n",
    "lc_len.rename(columns={'mjd': 'length'}, inplace=True)\n",
    "lc_len.sort_values('length', inplace=True)\n",
    "lc_len"
   ]
  },
  {
   "cell_type": "code",
   "execution_count": 18,
   "metadata": {},
   "outputs": [
    {
     "data": {
      "text/html": [
       "<div>\n",
       "<style scoped>\n",
       "    .dataframe tbody tr th:only-of-type {\n",
       "        vertical-align: middle;\n",
       "    }\n",
       "\n",
       "    .dataframe tbody tr th {\n",
       "        vertical-align: top;\n",
       "    }\n",
       "\n",
       "    .dataframe thead th {\n",
       "        text-align: right;\n",
       "    }\n",
       "</style>\n",
       "<table border=\"1\" class=\"dataframe\">\n",
       "  <thead>\n",
       "    <tr style=\"text-align: right;\">\n",
       "      <th></th>\n",
       "      <th>length</th>\n",
       "    </tr>\n",
       "    <tr>\n",
       "      <th>oid</th>\n",
       "      <th></th>\n",
       "    </tr>\n",
       "  </thead>\n",
       "  <tbody>\n",
       "    <tr>\n",
       "      <th>ZTF17aaaecor</th>\n",
       "      <td>391</td>\n",
       "    </tr>\n",
       "    <tr>\n",
       "      <th>ZTF17aabumwd</th>\n",
       "      <td>396</td>\n",
       "    </tr>\n",
       "    <tr>\n",
       "      <th>ZTF17aabvgjf</th>\n",
       "      <td>431</td>\n",
       "    </tr>\n",
       "    <tr>\n",
       "      <th>ZTF17aaaxaql</th>\n",
       "      <td>437</td>\n",
       "    </tr>\n",
       "    <tr>\n",
       "      <th>ZTF18aayxheb</th>\n",
       "      <td>439</td>\n",
       "    </tr>\n",
       "  </tbody>\n",
       "</table>\n",
       "</div>"
      ],
      "text/plain": [
       "              length\n",
       "oid                 \n",
       "ZTF17aaaecor     391\n",
       "ZTF17aabumwd     396\n",
       "ZTF17aabvgjf     431\n",
       "ZTF17aaaxaql     437\n",
       "ZTF18aayxheb     439"
      ]
     },
     "execution_count": 18,
     "metadata": {},
     "output_type": "execute_result"
    }
   ],
   "source": [
    "lc_len.tail()"
   ]
  },
  {
   "cell_type": "markdown",
   "metadata": {},
   "source": [
    "## Veamos la curva más larga en ALeRCE"
   ]
  },
  {
   "cell_type": "code",
   "execution_count": 19,
   "metadata": {},
   "outputs": [
    {
     "name": "stdout",
     "output_type": "stream",
     "text": [
      "https://alerce.online/object/ZTF18aayxheb\n"
     ]
    }
   ],
   "source": [
    "longest_lc = lc_len.index.values[-1]\n",
    "print(f'https://alerce.online/object/{longest_lc}')"
   ]
  },
  {
   "cell_type": "markdown",
   "metadata": {},
   "source": [
    "# Ejemplo para la actividad 2"
   ]
  },
  {
   "cell_type": "code",
   "execution_count": 20,
   "metadata": {},
   "outputs": [
    {
     "data": {
      "text/plain": [
       "<matplotlib.collections.PathCollection at 0x7f0b526bdb50>"
      ]
     },
     "execution_count": 20,
     "metadata": {},
     "output_type": "execute_result"
    },
    {
     "data": {
      "image/png": "[encoded data removed]",
      "text/plain": [
       "<Figure size 720x576 with 1 Axes>"
      ]
     },
     "metadata": {},
     "output_type": "display_data"
    }
   ],
   "source": [
    "fig = plt.figure(figsize=(10, 8))\n",
    "fig.set_facecolor('white')\n",
    "plt.scatter(lc_g.mjd%period, lc_g.magpsf_corr)\n",
    "\n",
    "t = np.linspace(0, period, 1000)\n",
    "A = -0.1\n",
    "B = 0.3\n",
    "C = 0.05\n",
    "D = 0.0\n",
    "E = 14.75\n",
    "\n",
    "y = (A*np.sin(2*np.pi*1/period*t) \n",
    "     + B*np.cos(2*np.pi*1/period*t) \n",
    "     + C*np.sin(2*np.pi*2/period*t)\n",
    "     + D*np.cos(2*np.pi*2/period*t) \n",
    "     + E)\n",
    "\n",
    "plt.scatter(t%period, y)"
   ]
  },
  {
   "cell_type": "code",
   "execution_count": null,
   "metadata": {},
   "outputs": [],
   "source": []
  },
  {
   "cell_type": "code",
   "execution_count": null,
   "metadata": {},
   "outputs": [],
   "source": []
  },
  {
   "cell_type": "code",
   "execution_count": null,
   "metadata": {},
   "outputs": [],
   "source": []
  }
 ],
 "metadata": {
  "kernelspec": {
   "display_name": "Python 3 (ipykernel)",
   "language": "python",
   "name": "python3"
  },
  "language_info": {
   "codemirror_mode": {
    "name": "ipython",
    "version": 3
   },
   "file_extension": ".py",
   "mimetype": "text/x-python",
   "name": "python",
   "nbconvert_exporter": "python",
   "pygments_lexer": "ipython3",
   "version": "3.9.6"
  }
 },
 "nbformat": 4,
 "nbformat_minor": 2
}
