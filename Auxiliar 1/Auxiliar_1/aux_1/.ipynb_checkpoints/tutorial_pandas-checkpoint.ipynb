{
 "cells": [
  {
   "cell_type": "code",
   "execution_count": null,
   "metadata": {},
   "outputs": [],
   "source": [
    "import numpy as np\n",
    "import pandas as pd\n",
    "import matplotlib\n",
    "%matplotlib inline\n",
    "import matplotlib.pyplot as plt"
   ]
  },
  {
   "cell_type": "markdown",
   "metadata": {},
   "source": [
    "## Juguemos con datos de verdad!"
   ]
  },
  {
   "cell_type": "code",
   "execution_count": null,
   "metadata": {},
   "outputs": [],
   "source": [
    "alerts = pd.read_pickle('alerts.pkl')"
   ]
  },
  {
   "cell_type": "code",
   "execution_count": null,
   "metadata": {},
   "outputs": [],
   "source": [
    "type(alerts)"
   ]
  },
  {
   "cell_type": "code",
   "execution_count": null,
   "metadata": {},
   "outputs": [],
   "source": [
    "alerts.head()"
   ]
  },
  {
   "cell_type": "markdown",
   "metadata": {},
   "source": [
    "### Los dataframes de pandas son como numpy arrays pero con nombres en las columnas y filas indexadas"
   ]
  },
  {
   "cell_type": "code",
   "execution_count": null,
   "metadata": {},
   "outputs": [],
   "source": [
    "alerts.columns"
   ]
  },
  {
   "cell_type": "code",
   "execution_count": null,
   "metadata": {},
   "outputs": [],
   "source": [
    "alerts.index"
   ]
  },
  {
   "cell_type": "markdown",
   "metadata": {},
   "source": [
    "## Cómo elegir columnas y filas (slicing)"
   ]
  },
  {
   "cell_type": "code",
   "execution_count": null,
   "metadata": {},
   "outputs": [],
   "source": [
    "slice_alerts = alerts[['mjd', 'magpsf_corr', 'sigmapsf_corr', 'fid']]\n",
    "slice_alerts.head()"
   ]
  },
  {
   "cell_type": "code",
   "execution_count": null,
   "metadata": {},
   "outputs": [],
   "source": [
    "slice_alerts.iloc[[2, 3]]"
   ]
  },
  {
   "cell_type": "code",
   "execution_count": null,
   "metadata": {},
   "outputs": [],
   "source": [
    "slice_alerts.loc[['ZTF19aaacrpc']]"
   ]
  },
  {
   "cell_type": "markdown",
   "metadata": {},
   "source": [
    "### ¿Cuántas alertas y curvas de luz hay?"
   ]
  },
  {
   "cell_type": "code",
   "execution_count": null,
   "metadata": {},
   "outputs": [],
   "source": [
    "len(slice_alerts)"
   ]
  },
  {
   "cell_type": "code",
   "execution_count": null,
   "metadata": {},
   "outputs": [],
   "source": [
    "oids = slice_alerts.index.unique()\n",
    "len(oids)"
   ]
  },
  {
   "cell_type": "markdown",
   "metadata": {},
   "source": [
    "### ¿Hay algún NaN?"
   ]
  },
  {
   "cell_type": "code",
   "execution_count": null,
   "metadata": {},
   "outputs": [],
   "source": [
    "alerts.dropna(inplace=True)\n",
    "slice_alerts.shape"
   ]
  },
  {
   "cell_type": "markdown",
   "metadata": {},
   "source": [
    "## Wait a minute... modificamos alerts pero cambió slice_alerts?! "
   ]
  },
  {
   "cell_type": "markdown",
   "metadata": {},
   "source": [
    "## Grafiquemos una curva de luz!"
   ]
  },
  {
   "cell_type": "code",
   "execution_count": null,
   "metadata": {},
   "outputs": [],
   "source": [
    "light_curve = slice_alerts.loc[['ZTF17aaajtgd']]\n",
    "lc_g = light_curve[light_curve.fid == 1]\n",
    "lc_r = light_curve[light_curve.fid == 2]\n",
    "fig = plt.figure(figsize=(12, 8))\n",
    "fig.set_facecolor('white')\n",
    "\n",
    "plt.errorbar(lc_g['mjd'], lc_g['magpsf_corr'], yerr=lc_g['sigmapsf_corr'], fmt='*g', label='g')\n",
    "plt.errorbar(lc_r['mjd'], lc_r['magpsf_corr'], yerr=lc_r['sigmapsf_corr'], fmt='*r', label='r')\n",
    "plt.xlabel('Time [mjd]')\n",
    "plt.ylabel('Magnitude')\n",
    "plt.title('Light curve %s' % light_curve.index[0])\n",
    "plt.legend()\n",
    "plt.gca().invert_yaxis()"
   ]
  },
  {
   "cell_type": "code",
   "execution_count": null,
   "metadata": {},
   "outputs": [],
   "source": [
    "period = 3.879\n",
    "fig = plt.figure(figsize=(12, 8))\n",
    "fig.set_facecolor('white')\n",
    "plt.errorbar(lc_g['mjd'] % period, lc_g['magpsf_corr'], yerr=lc_g['sigmapsf_corr'], fmt='*g', label='g')\n",
    "plt.errorbar(lc_r['mjd'] % period, lc_r['magpsf_corr'], yerr=lc_r['sigmapsf_corr'], fmt='*r', label='r')\n",
    "plt.xlabel('Time [mjd]')\n",
    "plt.ylabel('Magnitude')\n",
    "plt.title('Folded light curve %s with period %.3f days' % (light_curve.index[0], period))\n",
    "plt.legend()\n",
    "plt.gca().invert_yaxis()"
   ]
  },
  {
   "cell_type": "markdown",
   "metadata": {},
   "source": [
    "## Calculemos los largos de las curvas de luz"
   ]
  },
  {
   "cell_type": "code",
   "execution_count": null,
   "metadata": {},
   "outputs": [],
   "source": [
    "lc_len = slice_alerts.groupby(level=0).count()\n",
    "lc_len"
   ]
  },
  {
   "cell_type": "code",
   "execution_count": null,
   "metadata": {},
   "outputs": [],
   "source": [
    "lc_len = lc_len[['mjd']].copy()\n",
    "lc_len.rename(columns={'mjd': 'length'}, inplace=True)\n",
    "lc_len.sort_values('length', inplace=True)\n",
    "lc_len"
   ]
  },
  {
   "cell_type": "code",
   "execution_count": null,
   "metadata": {},
   "outputs": [],
   "source": [
    "lc_len.tail()"
   ]
  },
  {
   "cell_type": "markdown",
   "metadata": {},
   "source": [
    "## Veamos la curva más larga en ALeRCE"
   ]
  },
  {
   "cell_type": "code",
   "execution_count": null,
   "metadata": {},
   "outputs": [],
   "source": [
    "longest_lc = lc_len.index.values[-1]\n",
    "print(f'https://alerce.online/object/{longest_lc}')"
   ]
  },
  {
   "cell_type": "markdown",
   "metadata": {},
   "source": [
    "# Ejemplo para la actividad 2"
   ]
  },
  {
   "cell_type": "code",
   "execution_count": null,
   "metadata": {},
   "outputs": [],
   "source": [
    "fig = plt.figure(figsize=(10, 8))\n",
    "fig.set_facecolor('white')\n",
    "plt.scatter(lc_g.mjd%period, lc_g.magpsf_corr)\n",
    "\n",
    "t = np.linspace(0, period, 1000)\n",
    "A = -0.1\n",
    "B = 0.3\n",
    "C = 0.05\n",
    "D = 0.0\n",
    "E = 14.75\n",
    "\n",
    "y = (A*np.sin(2*np.pi*1/period*t) \n",
    "     + B*np.cos(2*np.pi*1/period*t) \n",
    "     + C*np.sin(2*np.pi*2/period*t)\n",
    "     + D*np.cos(2*np.pi*2/period*t) \n",
    "     + E)\n",
    "\n",
    "plt.scatter(t%period, y)"
   ]
  },
  {
   "cell_type": "code",
   "execution_count": null,
   "metadata": {},
   "outputs": [],
   "source": []
  }
 ],
 "metadata": {
  "kernelspec": {
   "display_name": "Python 3 (ipykernel)",
   "language": "python",
   "name": "python3"
  },
  "language_info": {
   "codemirror_mode": {
    "name": "ipython",
    "version": 3
   },
   "file_extension": ".py",
   "mimetype": "text/x-python",
   "name": "python",
   "nbconvert_exporter": "python",
   "pygments_lexer": "ipython3",
   "version": "3.9.6"
  }
 },
 "nbformat": 4,
 "nbformat_minor": 2
}
