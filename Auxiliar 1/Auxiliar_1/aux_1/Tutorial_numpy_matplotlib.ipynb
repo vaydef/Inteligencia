{
 "cells": [
  {
   "cell_type": "markdown",
   "metadata": {},
   "source": [
    "# Tutorial numpy y matplotlib"
   ]
  },
  {
   "cell_type": "markdown",
   "metadata": {},
   "source": [
    "El objetivo del presente tutorial es ilustrar los conceptos básicos de las librerías numpy y matplotlib para la ciencia de datos y visualización de los mismos.\n",
    "\n",
    "Comenzaremos con Numpy, librería para realizar computación científica en python."
   ]
  },
  {
   "cell_type": "code",
   "execution_count": null,
   "metadata": {},
   "outputs": [],
   "source": [
    "from __future__ import absolute_import\n",
    "from __future__ import division\n",
    "from __future__ import print_function\n",
    "\n",
    "import numpy as np\n",
    "import matplotlib.pyplot as plt\n",
    "import time\n",
    "import itertools\n",
    "\n",
    "\n",
    "a = np.array([1, 2, 3])\n",
    "print('Construyendo con listas\\n', a)\n",
    "\n",
    "b = np.arange(1, 10)\n",
    "print('Usando arange\\n', b)\n",
    "\n",
    "c = np.zeros((2, 4))\n",
    "print('Usando zeros\\n', c)"
   ]
  },
  {
   "cell_type": "markdown",
   "metadata": {},
   "source": [
    "Algunas funciones típicas de Numpy:"
   ]
  },
  {
   "cell_type": "code",
   "execution_count": null,
   "metadata": {},
   "outputs": [],
   "source": [
    "a = np.arange(1, 17)\n",
    "b = a.reshape([2, 8])\n",
    "c = a.reshape([4, 4])\n",
    "\n",
    "print(c, '\\n')\n",
    "print(c[:, 1])"
   ]
  },
  {
   "cell_type": "code",
   "execution_count": null,
   "metadata": {},
   "outputs": [],
   "source": [
    "lista_de_python = [[1, 2],  [3, 4]]\n",
    "array_de_np = np.array(lista_de_python)\n",
    "\n",
    "print(lista_de_python)\n",
    "print(array_de_np)\n",
    "print(array_de_np.shape)"
   ]
  },
  {
   "cell_type": "code",
   "execution_count": null,
   "metadata": {},
   "outputs": [],
   "source": [
    "a = np.arange(128).reshape([128, 1])\n",
    "b = a.reshape([-1, 4, 8, 2])\n",
    "c = a.reshape([1, 1, 128])\n",
    "\n",
    "print(a.shape)\n",
    "print(b.shape)\n",
    "print(c.shape)"
   ]
  },
  {
   "cell_type": "markdown",
   "metadata": {},
   "source": [
    "Ahora juguemos con matplotlib!"
   ]
  },
  {
   "cell_type": "code",
   "execution_count": null,
   "metadata": {},
   "outputs": [],
   "source": [
    "import matplotlib.pyplot as plt\n",
    "import matplotlib.cm as cm\n",
    "%matplotlib inline\n",
    "\n",
    "x = np.arange(1000)\n",
    "y = np.sin(2*np.pi*x/500.)\n",
    "\n",
    "fig = plt.figure(figsize=(10, 8))\n",
    "fig.set_facecolor('white')\n",
    "\n",
    "plt.xlabel('Tiempo [s]')\n",
    "plt.ylabel('Posicion [m]')\n",
    "plt.title('Movimiento oscilatorio')\n",
    "\n",
    "plt.plot(x,y,'r^',label=':)')\n",
    "plt.legend()"
   ]
  },
  {
   "cell_type": "markdown",
   "metadata": {},
   "source": [
    "# Problema: graficar la distribución empírica del lanzamiento de dados (actividad 1)"
   ]
  },
  {
   "cell_type": "code",
   "execution_count": null,
   "metadata": {},
   "outputs": [],
   "source": [
    "def simulate_dice(throws, digit):\n",
    "    assert digit in range(1, 7)\n",
    "    count = 0\n",
    "    for i in range(throws):\n",
    "        sample = np.random.randint(1, 7)\n",
    "        if sample == digit:\n",
    "            count += 1\n",
    "    return count"
   ]
  },
  {
   "cell_type": "code",
   "execution_count": null,
   "metadata": {},
   "outputs": [],
   "source": [
    "t = time.time()\n",
    "simulated_counts = []\n",
    "for i in range(100):\n",
    "    simulated_counts.append(simulate_dice(6000, 3))\n",
    "    \n",
    "fig = plt.figure(figsize=(10, 8))\n",
    "fig.set_facecolor('white')\n",
    "\n",
    "plt.hist(simulated_counts, bins=20);\n",
    "plt.show()\n",
    "print(f'It took {time.time() - t:.2f} seconds')"
   ]
  },
  {
   "cell_type": "markdown",
   "metadata": {},
   "source": [
    "## Un poco lento, no?"
   ]
  },
  {
   "cell_type": "code",
   "execution_count": null,
   "metadata": {},
   "outputs": [],
   "source": [
    "def simulate_dice_2(throws, digit):\n",
    "    samples = np.random.randint(1, 7, size=(throws))\n",
    "    matches = samples == digit\n",
    "    count = matches.astype(np.int).sum()\n",
    "    return count"
   ]
  },
  {
   "cell_type": "code",
   "execution_count": null,
   "metadata": {},
   "outputs": [],
   "source": [
    "t = time.time()\n",
    "simulated_counts = []\n",
    "for i in range(100):\n",
    "    simulated_counts.append(simulate_dice_2(6000, 3))\n",
    "    \n",
    "fig = plt.figure(figsize=(10, 8))\n",
    "fig.set_facecolor('white')\n",
    "\n",
    "plt.hist(simulated_counts, bins=20);\n",
    "plt.show()\n",
    "print(f'It took {time.time() - t:.2f} seconds')"
   ]
  },
  {
   "cell_type": "markdown",
   "metadata": {},
   "source": [
    "## Bastante mejor ;)"
   ]
  },
  {
   "cell_type": "markdown",
   "metadata": {},
   "source": [
    "# Resolvamos un problema de clasificación!"
   ]
  },
  {
   "cell_type": "code",
   "execution_count": null,
   "metadata": {},
   "outputs": [],
   "source": [
    "def create_dataset(n_per_class):\n",
    "    sigma_1 = 2.0\n",
    "    mean_1 = -1.0\n",
    "    x1 = np.random.randn(n_per_class)*sigma_1 + mean_1\n",
    "    \n",
    "    x2 = np.random.standard_gamma(3, size=(n_per_class))\n",
    "    x = np.concatenate((x1, x2), axis=0)\n",
    "    y = np.concatenate(\n",
    "        (np.zeros(n_per_class),\n",
    "        np.ones(n_per_class)),\n",
    "        axis=0\n",
    "    )\n",
    "    return x, y\n",
    "\n",
    "x, y = create_dataset(2000)\n",
    "print(x)\n",
    "print(y)"
   ]
  },
  {
   "cell_type": "code",
   "execution_count": null,
   "metadata": {},
   "outputs": [],
   "source": [
    "x1 = x[y == 0]\n",
    "x2 = x[y == 1]\n",
    "\n",
    "fig = plt.figure(figsize=(10, 8))\n",
    "fig.set_facecolor('white')\n",
    "\n",
    "plt.hist(x1, bins=30, density=True, color='blue', alpha=0.3, label='Class 1')\n",
    "plt.hist(x2, bins=30, density=True, color='red', alpha=0.3, label='Class 2')\n",
    "plt.xlabel('X value')\n",
    "plt.ylabel('Density')\n",
    "plt.title('Dataset histogram per class')\n",
    "plt.legend()\n",
    "plt.show()"
   ]
  },
  {
   "cell_type": "markdown",
   "metadata": {},
   "source": [
    "## Supongamos que nuestro clasificador consiste en un umbral simple que separa ambas clases"
   ]
  },
  {
   "cell_type": "code",
   "execution_count": null,
   "metadata": {},
   "outputs": [],
   "source": [
    "def classifier(x, threshold):\n",
    "    return (x > threshold).astype(np.int)"
   ]
  },
  {
   "cell_type": "code",
   "execution_count": null,
   "metadata": {},
   "outputs": [],
   "source": [
    "predictions = classifier(x, threshold=1.0)\n",
    "\n",
    "correctly_classified = x[(predictions == y)]\n",
    "misclassified_samples = x[(predictions != y)]\n",
    "\n",
    "print(f'{len(correctly_classified)} correctly classified samples and {len(misclassified_samples)} misclassified ones')"
   ]
  },
  {
   "cell_type": "markdown",
   "metadata": {},
   "source": [
    "## Construyamos la matriz de confusión asociada al clasificador, i.e. calculemos los verdaderos positivos, verdaderos negativos, falsos positivos y falsos negativos\n",
    "\n",
    "### Elijamos la clase 2 como \"positiva\""
   ]
  },
  {
   "cell_type": "code",
   "execution_count": null,
   "metadata": {},
   "outputs": [],
   "source": [
    "def confusion_matrix(predictions, labels):\n",
    "    VP = ((predictions == labels) & (labels == 1)).astype(np.int).sum()\n",
    "    VN = ((predictions == labels) & (labels == 0)).astype(np.int).sum()\n",
    "    FP = ((predictions != labels) & (labels == 0)).astype(np.int).sum()\n",
    "    FN = ((predictions != labels) & (labels == 1)).astype(np.int).sum()\n",
    "    return VP, VN, FP, FN\n",
    "\n",
    "VP, VN, FP, FN = confusion_matrix(predictions, y)\n",
    "print(VP, VN, FP, FN)"
   ]
  },
  {
   "cell_type": "code",
   "execution_count": null,
   "metadata": {},
   "outputs": [],
   "source": [
    "def plot_confusion_matrix(cm, classes,\n",
    "                          normalize=False,\n",
    "                          title='Confusion matrix',\n",
    "                          cmap=plt.cm.Blues):\n",
    "    \"\"\"\n",
    "    This function prints and plots the confusion matrix.\n",
    "    Normalization can be applied by setting `normalize=True`.\n",
    "    \"\"\"\n",
    "    if normalize:\n",
    "        cm = cm.astype('float') / cm.sum(axis=1)[:, np.newaxis]\n",
    "        print(\"Normalized confusion matrix\")\n",
    "    else:\n",
    "        print('Confusion matrix, without normalization')\n",
    "\n",
    "    print(cm)\n",
    "\n",
    "    fig = plt.figure(figsize=(10, 8))\n",
    "    fig.set_facecolor('white')\n",
    "\n",
    "    plt.imshow(cm, interpolation='nearest', cmap=cmap)\n",
    "    plt.title(title)\n",
    "    plt.colorbar()\n",
    "    tick_marks = np.arange(len(classes))\n",
    "    plt.xticks(tick_marks, classes, rotation=45)\n",
    "    plt.yticks(tick_marks, classes)\n",
    "\n",
    "    fmt = '.2f' if normalize else 'd'\n",
    "    thresh = cm.max() / 2.\n",
    "    for i, j in itertools.product(range(cm.shape[0]), range(cm.shape[1])):\n",
    "        plt.text(j, i, format(cm[i, j], fmt),\n",
    "                 horizontalalignment=\"center\",\n",
    "                 color=\"white\" if cm[i, j] > thresh else \"black\")\n",
    "\n",
    "    plt.tight_layout()\n",
    "    plt.ylabel('True label')\n",
    "    plt.xlabel('Predicted label')"
   ]
  },
  {
   "cell_type": "code",
   "execution_count": null,
   "metadata": {},
   "outputs": [],
   "source": [
    "cm = np.array([[VN, FP], [FN, VP]])\n",
    "plot_confusion_matrix(cm, classes=['Class 1', 'Class 2'])"
   ]
  },
  {
   "cell_type": "markdown",
   "metadata": {},
   "source": [
    "## Por último, construyamos una curva ROC variando el umbral"
   ]
  },
  {
   "cell_type": "code",
   "execution_count": null,
   "metadata": {},
   "outputs": [],
   "source": [
    "tprs = []\n",
    "fprs = []\n",
    "\n",
    "for threshold in np.linspace(-6, 10, 100):\n",
    "    predictions = classifier(x, threshold)\n",
    "    VP, VN, FP, FN = confusion_matrix(predictions, y)\n",
    "    tpr = VP/(VP+FN)\n",
    "    fpr = FP/(FP+VN)\n",
    "    tprs.append(tpr)\n",
    "    fprs.append(fpr)"
   ]
  },
  {
   "cell_type": "code",
   "execution_count": null,
   "metadata": {},
   "outputs": [],
   "source": [
    "fig = plt.figure(figsize=(10, 8))\n",
    "fig.set_facecolor('white')\n",
    "\n",
    "plt.plot(fprs, tprs, '*')\n",
    "plt.xlabel('False positive rate')\n",
    "plt.ylabel('True positive rate')\n",
    "plt.title('ROC curve')"
   ]
  },
  {
   "cell_type": "code",
   "execution_count": null,
   "metadata": {},
   "outputs": [],
   "source": []
  }
 ],
 "metadata": {
  "kernelspec": {
   "display_name": "Python 3 (ipykernel)",
   "language": "python",
   "name": "python3"
  },
  "language_info": {
   "codemirror_mode": {
    "name": "ipython",
    "version": 3
   },
   "file_extension": ".py",
   "mimetype": "text/x-python",
   "name": "python",
   "nbconvert_exporter": "python",
   "pygments_lexer": "ipython3",
   "version": "3.8.10"
  }
 },
 "nbformat": 4,
 "nbformat_minor": 1
}
